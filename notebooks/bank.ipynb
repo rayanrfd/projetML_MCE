{
 "cells": [
  {
   "cell_type": "code",
   "execution_count": null,
   "metadata": {},
   "outputs": [],
   "source": [
    "import numpy as np\n",
    "import pandas as pd\n",
    "import matplotlib.pyplot as plt\n",
    "from sklearn.model_selection import train_test_split\n"
   ]
  },
  {
   "cell_type": "markdown",
   "metadata": {},
   "source": [
    "- Loading the dataset\n",
    "- Understanding the dataset\n",
    "- Data preprocessing\n",
    "- Data visualization\n",
    "- Building a classification model\n",
    "- Model evaluation\n",
    "- Model prediction"
   ]
  },
  {
   "cell_type": "code",
   "execution_count": null,
   "metadata": {},
   "outputs": [],
   "source": [
    "bank = pd.read_csv('/Users/rfd/IMT/MCE/TML/Projet/data/data_banknote_authentication.csv')\n"
   ]
  }
 ],
 "metadata": {
  "kernelspec": {
   "display_name": "LAB_3.11",
   "language": "python",
   "name": "python3"
  },
  "language_info": {
   "name": "python",
   "version": "3.11.5"
  }
 },
 "nbformat": 4,
 "nbformat_minor": 2
}
